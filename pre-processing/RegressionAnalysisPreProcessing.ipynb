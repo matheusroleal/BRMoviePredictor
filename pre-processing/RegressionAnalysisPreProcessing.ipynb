{
 "cells": [
  {
   "cell_type": "code",
   "execution_count": 1,
   "metadata": {},
   "outputs": [],
   "source": [
    "import csv\n",
    "import sys\n",
    "import statistics\n",
    "from numpy import percentile"
   ]
  },
  {
   "cell_type": "code",
   "execution_count": 2,
   "metadata": {},
   "outputs": [
    {
     "data": {
      "text/plain": [
       "['\"Ano de Lançamento\"',\n",
       " '\"Certificado de Produto Brasileiro (CPB)\"',\n",
       " '\"Título\"',\n",
       " '\"Direção\"',\n",
       " '\"Gênero\"',\n",
       " '\"Empresa Produtora Brasileira Majoritária\"',\n",
       " '\"UF\"',\n",
       " '\"Empresa Produtora Minoritária Brasileira\"',\n",
       " '\"UF\"',\n",
       " '\"Distribuidora\"',\n",
       " '\"Máximo de Salas\"',\n",
       " '\"Renda (R$)\"',\n",
       " '\"Público \"']"
      ]
     },
     "execution_count": 2,
     "metadata": {},
     "output_type": "execute_result"
    }
   ],
   "source": [
    "csv_file = open('../dataset/FilmesBrasileirosLancados.csv', 'r')\n",
    "csv_reader = csv.reader(csv_file, delimiter=';')\n",
    "next(csv_reader) # skip header"
   ]
  },
  {
   "cell_type": "markdown",
   "metadata": {},
   "source": [
    "## Filtrando campos necessários"
   ]
  },
  {
   "cell_type": "code",
   "execution_count": 3,
   "metadata": {},
   "outputs": [],
   "source": [
    "def edit_text(rstring):\n",
    "    rstring = rstring.lower()\n",
    "    rstring = rstring.replace('\"', '').replace(\"ç\",\"c\")\n",
    "    rstring = rstring.replace(\"á\", \"a\").replace(\"é\", \"e\").replace(\"í\",\"i\").replace(\"ó\",\"o\").replace(\"ú\",\"u\")\n",
    "    rstring = rstring.replace(\"ã\", \"a\").replace(\"õ\",\"o\")\n",
    "    rstring = rstring.replace(\"â\", \"a\").replace(\"ê\", \"e\").replace(\"î\",\"i\").replace(\"ô\",\"o\").replace(\"û\",\"u\")\n",
    "    return rstring"
   ]
  },
  {
   "cell_type": "code",
   "execution_count": 4,
   "metadata": {},
   "outputs": [],
   "source": [
    "data = []\n",
    "for row in csv_reader:\n",
    "    if row[0] != '':\n",
    "        if row[11] != '\"ND\"' and row[12] != '\"ND\"': # Removing movies that don't have all information\n",
    "            movie = {\"Diretor\": row[3].replace('\"', ''),\"Genero\": edit_text(row[4]),\"Distribuidora\": row[9].replace('\"', ''),\"Renda\": float(row[11].replace('\"', '').replace(',', '.')),\"Publico\": int(row[12].replace('\"', ''))}\n",
    "            data.append(movie)"
   ]
  },
  {
   "cell_type": "code",
   "execution_count": 5,
   "metadata": {},
   "outputs": [
    {
     "name": "stdout",
     "output_type": "stream",
     "text": [
      "1532\n"
     ]
    }
   ],
   "source": [
    "print(len(data))"
   ]
  },
  {
   "cell_type": "markdown",
   "metadata": {},
   "source": [
    "## Conversão Atributos Nominais"
   ]
  },
  {
   "cell_type": "markdown",
   "metadata": {},
   "source": [
    "Diretores"
   ]
  },
  {
   "cell_type": "code",
   "execution_count": 6,
   "metadata": {},
   "outputs": [],
   "source": [
    "director_lst = []\n",
    "director_name = []\n",
    "for r in data:\n",
    "    if r['Diretor'] not in director_name:\n",
    "        director_name.append(r['Diretor'])\n",
    "        director_lst.append({\"Diretor\": r['Diretor'],\"Renda\": [r['Renda']],\"Publico\": [r['Publico']]})\n",
    "    else:\n",
    "        director_lst[director_name.index(r['Diretor'])]['Renda'].append(r['Renda'])\n",
    "        director_lst[director_name.index(r['Diretor'])]['Publico'].append(r['Publico'])"
   ]
  },
  {
   "cell_type": "code",
   "execution_count": 7,
   "metadata": {},
   "outputs": [],
   "source": [
    "for r in data:\n",
    "    if r['Diretor'] in director_name:\n",
    "        r['Diretor'] = statistics.median(director_lst[director_name.index(r['Diretor'])]['Renda'])\n",
    "    else:\n",
    "        r['Diretor'] = 'Outros'"
   ]
  },
  {
   "cell_type": "markdown",
   "metadata": {},
   "source": [
    "Genêro"
   ]
  },
  {
   "cell_type": "code",
   "execution_count": 8,
   "metadata": {},
   "outputs": [],
   "source": [
    "genre_lst = []\n",
    "for r in data:\n",
    "    if r['Genero'] not in genre_lst:\n",
    "        genre_lst.append(r['Genero'])"
   ]
  },
  {
   "cell_type": "code",
   "execution_count": 9,
   "metadata": {},
   "outputs": [
    {
     "data": {
      "text/plain": [
       "4"
      ]
     },
     "execution_count": 9,
     "metadata": {},
     "output_type": "execute_result"
    }
   ],
   "source": [
    "len(genre_lst)"
   ]
  },
  {
   "cell_type": "code",
   "execution_count": 10,
   "metadata": {},
   "outputs": [],
   "source": [
    "for r in data:\n",
    "    r['Genero'] = genre_lst.index(r['Genero']) + 1"
   ]
  },
  {
   "cell_type": "markdown",
   "metadata": {},
   "source": [
    "Distribuidora"
   ]
  },
  {
   "cell_type": "code",
   "execution_count": 11,
   "metadata": {},
   "outputs": [
    {
     "data": {
      "text/plain": [
       "['\"Ano de exibição\"',\n",
       " '\"Distribuidora\"',\n",
       " '\"Número de Registro Ancine\"',\n",
       " '\"Origem da empresa distribuidora\"',\n",
       " '\"Público\"',\n",
       " '\"Público Filmes Brasileiros\"',\n",
       " '\"Renda (R$)\"',\n",
       " '\"Renda Filmes Brasileiros (R$)\"',\n",
       " '\"Títulos Exibidos\"',\n",
       " '\"Títulos Brasileiros  Exibidos\"',\n",
       " '\"Títulos Lançados\"',\n",
       " '\"Títulos Brasileiros Lançados\"']"
      ]
     },
     "execution_count": 11,
     "metadata": {},
     "output_type": "execute_result"
    }
   ],
   "source": [
    "csv_file2 = open('../dataset/DistribuidorasFilmesBrasil.csv', 'r')\n",
    "csv_reader2 = csv.reader(csv_file2, delimiter=';')\n",
    "next(csv_reader2) # skip header"
   ]
  },
  {
   "cell_type": "code",
   "execution_count": 12,
   "metadata": {},
   "outputs": [],
   "source": [
    "data2 = []\n",
    "for row in csv_reader2:\n",
    "    movie = {\"Distribuidora\": row[1].replace('\"', ''),\"Renda\": float(row[6].replace('\"', '').replace(',', '.')),\"Lancamentos\": int(row[8].replace('\"', ''))}\n",
    "    data2.append(movie)"
   ]
  },
  {
   "cell_type": "code",
   "execution_count": 13,
   "metadata": {},
   "outputs": [],
   "source": [
    "distribuidora_lst = []\n",
    "distribuidora_name = []\n",
    "for r in data2:\n",
    "    if r['Distribuidora'] not in distribuidora_name:\n",
    "        distribuidora_name.append(r['Distribuidora'])\n",
    "        distribuidora_lst.append(r)\n",
    "    else:\n",
    "        distribuidora_lst[distribuidora_name.index(r['Distribuidora'])]['Renda'] += r['Renda']\n",
    "        distribuidora_lst[distribuidora_name.index(r['Distribuidora'])]['Lancamentos'] += r['Lancamentos']"
   ]
  },
  {
   "cell_type": "code",
   "execution_count": 14,
   "metadata": {},
   "outputs": [],
   "source": [
    "for d in director_name:\n",
    "    director_lst[director_name.index(d)]['Renda'] = statistics.median(director_lst[director_name.index(d)]['Renda'])"
   ]
  },
  {
   "cell_type": "code",
   "execution_count": 15,
   "metadata": {},
   "outputs": [],
   "source": [
    "for r in data:\n",
    "    if r['Distribuidora'] in distribuidora_name:\n",
    "        r['Distribuidora'] = distribuidora_lst[distribuidora_name.index(r['Distribuidora'])]['Renda']\n",
    "    else:\n",
    "        r['Distribuidora'] = 0"
   ]
  },
  {
   "cell_type": "markdown",
   "metadata": {},
   "source": [
    "## Exportando resultados"
   ]
  },
  {
   "cell_type": "code",
   "execution_count": 16,
   "metadata": {},
   "outputs": [],
   "source": [
    "csv_out = []\n",
    "for r in data:\n",
    "    row = []\n",
    "    row.append(r['Diretor'])\n",
    "    row.append(r['Genero'])\n",
    "    row.append(r['Distribuidora'])\n",
    "    row.append(r['Publico'])\n",
    "    csv_out.append(row)"
   ]
  },
  {
   "cell_type": "code",
   "execution_count": 17,
   "metadata": {},
   "outputs": [],
   "source": [
    "with open('../dataset/RegressionAnalysisPreProcessing.csv', 'w') as writeFile:\n",
    "    writer = csv.writer(writeFile)\n",
    "    writer.writerows(csv_out)"
   ]
  }
 ],
 "metadata": {
  "kernelspec": {
   "display_name": "Python 3",
   "language": "python",
   "name": "python3"
  },
  "language_info": {
   "codemirror_mode": {
    "name": "ipython",
    "version": 3
   },
   "file_extension": ".py",
   "mimetype": "text/x-python",
   "name": "python",
   "nbconvert_exporter": "python",
   "pygments_lexer": "ipython3",
   "version": "3.7.2"
  }
 },
 "nbformat": 4,
 "nbformat_minor": 2
}
