{
 "cells": [
  {
   "cell_type": "code",
   "execution_count": 1,
   "metadata": {},
   "outputs": [],
   "source": [
    "import csv\n",
    "import sys\n",
    "import statistics\n",
    "from numpy import percentile"
   ]
  },
  {
   "cell_type": "code",
   "execution_count": 2,
   "metadata": {},
   "outputs": [
    {
     "data": {
      "text/plain": [
       "['\"Ano de Lançamento\"',\n",
       " '\"Certificado de Produto Brasileiro (CPB)\"',\n",
       " '\"Título\"',\n",
       " '\"Direção\"',\n",
       " '\"Gênero\"',\n",
       " '\"Empresa Produtora Brasileira Majoritária\"',\n",
       " '\"UF\"',\n",
       " '\"Empresa Produtora Minoritária Brasileira\"',\n",
       " '\"UF\"',\n",
       " '\"Distribuidora\"',\n",
       " '\"Máximo de Salas\"',\n",
       " '\"Renda (R$)\"',\n",
       " '\"Público \"']"
      ]
     },
     "execution_count": 2,
     "metadata": {},
     "output_type": "execute_result"
    }
   ],
   "source": [
    "csv_file = open('../dataset/FilmesBrasileirosLancados.csv', 'r')\n",
    "csv_reader = csv.reader(csv_file, delimiter=';')\n",
    "next(csv_reader) # skip header"
   ]
  },
  {
   "cell_type": "markdown",
   "metadata": {},
   "source": [
    "## Filtrando campos necessários"
   ]
  },
  {
   "cell_type": "code",
   "execution_count": 3,
   "metadata": {},
   "outputs": [],
   "source": [
    "def edit_text(rstring):\n",
    "    rstring = rstring.lower()\n",
    "    rstring = rstring.replace('\"', '').replace(\"ç\",\"c\")\n",
    "    rstring = rstring.replace(\"á\", \"a\").replace(\"é\", \"e\").replace(\"í\",\"i\").replace(\"ó\",\"o\").replace(\"ú\",\"u\")\n",
    "    rstring = rstring.replace(\"ã\", \"a\").replace(\"õ\",\"o\")\n",
    "    rstring = rstring.replace(\"â\", \"a\").replace(\"ê\", \"e\").replace(\"î\",\"i\").replace(\"ô\",\"o\").replace(\"û\",\"u\")\n",
    "    return rstring"
   ]
  },
  {
   "cell_type": "code",
   "execution_count": 4,
   "metadata": {},
   "outputs": [],
   "source": [
    "data = []\n",
    "for row in csv_reader:\n",
    "    if row[0] != '':\n",
    "        if row[11] != '\"ND\"' and row[12] != '\"ND\"': # Removing movies that don't have all information\n",
    "            movie = {\"Diretor\": row[3].replace('\"', ''),\"Genero\": edit_text(row[4]),\"Distribuidora\": row[9].replace('\"', ''),\"Renda\": float(row[11].replace('\"', '').replace(',', '.')),\"Publico\": int(row[12].replace('\"', ''))}\n",
    "            data.append(movie)"
   ]
  },
  {
   "cell_type": "code",
   "execution_count": 5,
   "metadata": {
    "scrolled": true
   },
   "outputs": [
    {
     "name": "stdout",
     "output_type": "stream",
     "text": [
      "1532\n"
     ]
    }
   ],
   "source": [
    "print(len(data))"
   ]
  },
  {
   "cell_type": "markdown",
   "metadata": {},
   "source": [
    "## Agrupando diretores"
   ]
  },
  {
   "cell_type": "code",
   "execution_count": 6,
   "metadata": {},
   "outputs": [],
   "source": [
    "director_lst = []\n",
    "director_name = []\n",
    "for r in data:\n",
    "    if r['Diretor'] not in director_name:\n",
    "        director_name.append(r['Diretor'])\n",
    "        director_lst.append({\"Diretor\": r['Diretor'],\"Renda\": [r['Renda']],\"Publico\": [r['Publico']]})\n",
    "    else:\n",
    "        director_lst[director_name.index(r['Diretor'])]['Renda'].append(r['Renda'])\n",
    "        director_lst[director_name.index(r['Diretor'])]['Publico'].append(r['Publico'])"
   ]
  },
  {
   "cell_type": "code",
   "execution_count": 7,
   "metadata": {},
   "outputs": [],
   "source": [
    "for d in director_name:\n",
    "    director_lst[director_name.index(d)]['Renda'] = statistics.median(director_lst[director_name.index(d)]['Renda'])\n",
    "    director_lst[director_name.index(d)]['Publico'] = statistics.median(director_lst[director_name.index(d)]['Publico'])"
   ]
  },
  {
   "cell_type": "code",
   "execution_count": 8,
   "metadata": {},
   "outputs": [],
   "source": [
    "def define_director(inc,pub):\n",
    "    txt = ''\n",
    "    if inc < 7706.96:\n",
    "        txt += 'e'\n",
    "    elif inc < 30227.496:\n",
    "        txt += 'd'\n",
    "    elif inc < 117016.172:\n",
    "        txt += 'c'\n",
    "    elif inc < 797518.4:\n",
    "        txt += 'b'\n",
    "    else:\n",
    "        txt += 'a'\n",
    "    if pub < 887:\n",
    "        txt += 'e'\n",
    "    elif pub < 3462.4:\n",
    "        txt += 'd'\n",
    "    elif pub < 13730.6:\n",
    "        txt += 'c'\n",
    "    elif pub < 93890.6:\n",
    "        txt += 'b'\n",
    "    else:\n",
    "        txt += 'a'\n",
    "    return txt"
   ]
  },
  {
   "cell_type": "code",
   "execution_count": 9,
   "metadata": {},
   "outputs": [],
   "source": [
    "for r in data:\n",
    "    if r['Diretor'] in director_name:\n",
    "        r['Diretor'] = define_director(director_lst[director_name.index(r['Diretor'])]['Renda'],director_lst[director_name.index(r['Diretor'])]['Publico'])\n",
    "    else:\n",
    "        r['Diretor'] = 'Outros'"
   ]
  },
  {
   "cell_type": "markdown",
   "metadata": {},
   "source": [
    "## Agrupamento para as distribuidoras"
   ]
  },
  {
   "cell_type": "code",
   "execution_count": 10,
   "metadata": {
    "scrolled": true
   },
   "outputs": [
    {
     "data": {
      "text/plain": [
       "['\"Ano de exibição\"',\n",
       " '\"Distribuidora\"',\n",
       " '\"Número de Registro Ancine\"',\n",
       " '\"Origem da empresa distribuidora\"',\n",
       " '\"Público\"',\n",
       " '\"Público Filmes Brasileiros\"',\n",
       " '\"Renda (R$)\"',\n",
       " '\"Renda Filmes Brasileiros (R$)\"',\n",
       " '\"Títulos Exibidos\"',\n",
       " '\"Títulos Brasileiros  Exibidos\"',\n",
       " '\"Títulos Lançados\"',\n",
       " '\"Títulos Brasileiros Lançados\"']"
      ]
     },
     "execution_count": 10,
     "metadata": {},
     "output_type": "execute_result"
    }
   ],
   "source": [
    "csv_file2 = open('../dataset/DistribuidorasFilmesBrasil.csv', 'r')\n",
    "csv_reader2 = csv.reader(csv_file2, delimiter=';')\n",
    "next(csv_reader2) # skip header"
   ]
  },
  {
   "cell_type": "code",
   "execution_count": 11,
   "metadata": {},
   "outputs": [],
   "source": [
    "data2 = []\n",
    "for row in csv_reader2:\n",
    "    movie = {\"Distribuidora\": row[1].replace('\"', ''),\"Renda\": float(row[6].replace('\"', '').replace(',', '.')),\"Publico\": int(row[4].replace('\"', ''))}\n",
    "    data2.append(movie)"
   ]
  },
  {
   "cell_type": "code",
   "execution_count": 12,
   "metadata": {},
   "outputs": [],
   "source": [
    "distribuidora_lst = []\n",
    "distribuidora_name = []\n",
    "for r in data2:\n",
    "    if r['Distribuidora'] not in distribuidora_name:\n",
    "        distribuidora_name.append(r['Distribuidora'])\n",
    "        distribuidora_lst.append({\"Distribuidora\": r['Distribuidora'],\"Renda\": [r['Renda']],\"Publico\": [r['Publico']]})\n",
    "    else:\n",
    "        distribuidora_lst[distribuidora_name.index(r['Distribuidora'])]['Renda'].append(r['Renda'])\n",
    "        distribuidora_lst[distribuidora_name.index(r['Distribuidora'])]['Publico'].append(r['Publico'])"
   ]
  },
  {
   "cell_type": "code",
   "execution_count": 13,
   "metadata": {},
   "outputs": [],
   "source": [
    "for d in distribuidora_name:\n",
    "    distribuidora_lst[distribuidora_name.index(d)]['Renda'] = statistics.median(distribuidora_lst[distribuidora_name.index(d)]['Renda'])\n",
    "    distribuidora_lst[distribuidora_name.index(d)]['Publico'] = statistics.median(distribuidora_lst[distribuidora_name.index(d)]['Publico'])"
   ]
  },
  {
   "cell_type": "code",
   "execution_count": 14,
   "metadata": {},
   "outputs": [],
   "source": [
    "def define_distribu(inc,pub):\n",
    "    txt = ''\n",
    "    if inc < 7706.96:\n",
    "        txt += 'e'\n",
    "    elif inc < 30227.496:\n",
    "        txt += 'd'\n",
    "    elif inc < 117016.172:\n",
    "        txt += 'c'\n",
    "    elif inc < 797518.4:\n",
    "        txt += 'b'\n",
    "    else:\n",
    "        txt += 'a'\n",
    "    if pub < 887:\n",
    "        txt += 'e'\n",
    "    elif pub < 3462.4:\n",
    "        txt += 'd'\n",
    "    elif pub < 13730.6:\n",
    "        txt += 'c'\n",
    "    elif pub < 93890.6:\n",
    "        txt += 'b'\n",
    "    else:\n",
    "        txt += 'a'\n",
    "    return txt"
   ]
  },
  {
   "cell_type": "code",
   "execution_count": 15,
   "metadata": {},
   "outputs": [],
   "source": [
    "for r in data:\n",
    "    if r['Distribuidora'] in distribuidora_name:\n",
    "        r['Distribuidora'] = define_distribu(distribuidora_lst[distribuidora_name.index(r['Distribuidora'])]['Renda'],distribuidora_lst[distribuidora_name.index(r['Distribuidora'])]['Publico'])\n",
    "    else:\n",
    "        r['Distribuidora'] = 'Outros'"
   ]
  },
  {
   "cell_type": "markdown",
   "metadata": {},
   "source": [
    "## Criando ranges para público"
   ]
  },
  {
   "cell_type": "code",
   "execution_count": 16,
   "metadata": {},
   "outputs": [],
   "source": [
    "somelist=[]\n",
    "for r in data:\n",
    "    somelist.append(r['Publico'])"
   ]
  },
  {
   "cell_type": "code",
   "execution_count": 17,
   "metadata": {},
   "outputs": [
    {
     "name": "stdout",
     "output_type": "stream",
     "text": [
      "MAX: 11305479\n",
      "MIN 7\n"
     ]
    }
   ],
   "source": [
    "print('MAX:',max(somelist))\n",
    "print('MIN',min(somelist))"
   ]
  },
  {
   "cell_type": "code",
   "execution_count": 18,
   "metadata": {},
   "outputs": [
    {
     "name": "stdout",
     "output_type": "stream",
     "text": [
      "MEDIAN 6776.5\n",
      "MHIGH 6784\n",
      "MLOW 6769\n"
     ]
    }
   ],
   "source": [
    "print('MEDIAN',statistics.median(somelist))\n",
    "print('MHIGH',statistics.median_high(somelist))\n",
    "print('MLOW',statistics.median_low(somelist))"
   ]
  },
  {
   "cell_type": "code",
   "execution_count": 19,
   "metadata": {
    "scrolled": true
   },
   "outputs": [
    {
     "name": "stdout",
     "output_type": "stream",
     "text": [
      "MEAN 201382.9144908616\n",
      "PERCENTILE [  887.   3462.4 13730.6 93890.6]\n"
     ]
    }
   ],
   "source": [
    "print('MEAN',statistics.mean(somelist))\n",
    "print('PERCENTILE',percentile(somelist, [20, 40, 60, 80]))\n"
   ]
  },
  {
   "cell_type": "code",
   "execution_count": 20,
   "metadata": {},
   "outputs": [],
   "source": [
    "def define_public(pub):\n",
    "    if pub < 887:\n",
    "        return 'e'\n",
    "    elif pub < 3462.4:\n",
    "        return 'd'\n",
    "    elif pub < 13730.6:\n",
    "        return 'c'\n",
    "    elif pub < 93890.6:\n",
    "        return 'b'\n",
    "    else:\n",
    "        return 'a'"
   ]
  },
  {
   "cell_type": "code",
   "execution_count": 21,
   "metadata": {},
   "outputs": [],
   "source": [
    "for r in data:\n",
    "    r['Publico'] = define_public(r['Publico'])"
   ]
  },
  {
   "cell_type": "markdown",
   "metadata": {},
   "source": [
    "## Criando ranges para renda"
   ]
  },
  {
   "cell_type": "code",
   "execution_count": 22,
   "metadata": {},
   "outputs": [],
   "source": [
    "somelist=[]\n",
    "for r in data:\n",
    "    somelist.append(r['Renda'])"
   ]
  },
  {
   "cell_type": "code",
   "execution_count": 23,
   "metadata": {},
   "outputs": [
    {
     "name": "stdout",
     "output_type": "stream",
     "text": [
      "MAX: 124681177.82\n",
      "MIN 30.0\n"
     ]
    }
   ],
   "source": [
    "print('MAX:',max(somelist))\n",
    "print('MIN',min(somelist))"
   ]
  },
  {
   "cell_type": "code",
   "execution_count": 24,
   "metadata": {},
   "outputs": [
    {
     "name": "stdout",
     "output_type": "stream",
     "text": [
      "MEDIAN 54066.735\n",
      "MHIGH 54173.47\n",
      "MLOW 53960.0\n"
     ]
    }
   ],
   "source": [
    "print('MEDIAN',statistics.median(somelist))\n",
    "print('MHIGH',statistics.median_high(somelist))\n",
    "print('MLOW',statistics.median_low(somelist))"
   ]
  },
  {
   "cell_type": "code",
   "execution_count": 25,
   "metadata": {
    "scrolled": false
   },
   "outputs": [
    {
     "name": "stdout",
     "output_type": "stream",
     "text": [
      "MEAN 1824633.9161879895\n",
      "PERCENTILE [  7706.96   30227.496 117016.172 797518.4  ]\n"
     ]
    }
   ],
   "source": [
    "print('MEAN',statistics.mean(somelist))\n",
    "print('PERCENTILE',percentile(somelist, [20, 40, 60, 80]))\n"
   ]
  },
  {
   "cell_type": "code",
   "execution_count": 26,
   "metadata": {},
   "outputs": [],
   "source": [
    "def define_income(inc):\n",
    "    if inc < 7706.96:\n",
    "        return 'e'\n",
    "    elif inc < 30227.496:\n",
    "        return 'd'\n",
    "    elif inc < 117016.172:\n",
    "        return 'c'\n",
    "    elif inc < 797518.4:\n",
    "        return 'b'\n",
    "    else:\n",
    "        return 'a'"
   ]
  },
  {
   "cell_type": "code",
   "execution_count": 27,
   "metadata": {},
   "outputs": [],
   "source": [
    "for r in data:\n",
    "    r['Renda'] = define_income(r['Renda'])"
   ]
  },
  {
   "cell_type": "markdown",
   "metadata": {},
   "source": [
    "## Exportando resultados"
   ]
  },
  {
   "cell_type": "code",
   "execution_count": 28,
   "metadata": {},
   "outputs": [],
   "source": [
    "csv_out = []\n",
    "for r in data:\n",
    "    row = []\n",
    "    row.append(r['Diretor'])\n",
    "    row.append(r['Genero'])\n",
    "    row.append(r['Distribuidora'])\n",
    "    row.append(r['Renda']+r['Publico'])\n",
    "    csv_out.append(row)"
   ]
  },
  {
   "cell_type": "code",
   "execution_count": 29,
   "metadata": {},
   "outputs": [],
   "source": [
    "with open('../dataset/machineLearningPreProcessing.csv', 'w') as writeFile:\n",
    "    writer = csv.writer(writeFile)\n",
    "    writer.writerows(csv_out)"
   ]
  }
 ],
 "metadata": {
  "kernelspec": {
   "display_name": "Python 3",
   "language": "python",
   "name": "python3"
  },
  "language_info": {
   "codemirror_mode": {
    "name": "ipython",
    "version": 3
   },
   "file_extension": ".py",
   "mimetype": "text/x-python",
   "name": "python",
   "nbconvert_exporter": "python",
   "pygments_lexer": "ipython3",
   "version": "3.7.2"
  }
 },
 "nbformat": 4,
 "nbformat_minor": 2
}
