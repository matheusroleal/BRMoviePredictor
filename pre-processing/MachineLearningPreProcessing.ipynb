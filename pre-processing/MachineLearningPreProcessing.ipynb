{
 "cells": [
  {
   "cell_type": "code",
   "execution_count": 1,
   "metadata": {},
   "outputs": [],
   "source": [
    "import csv\n",
    "import sys\n",
    "import statistics\n",
    "from numpy import percentile"
   ]
  },
  {
   "cell_type": "code",
   "execution_count": 2,
   "metadata": {},
   "outputs": [
    {
     "data": {
      "text/plain": [
       "['\"Ano de Lançamento\"',\n",
       " '\"Certificado de Produto Brasileiro (CPB)\"',\n",
       " '\"Título\"',\n",
       " '\"Direção\"',\n",
       " '\"Gênero\"',\n",
       " '\"Empresa Produtora Brasileira Majoritária\"',\n",
       " '\"UF\"',\n",
       " '\"Empresa Produtora Minoritária Brasileira\"',\n",
       " '\"UF\"',\n",
       " '\"Distribuidora\"',\n",
       " '\"Máximo de Salas\"',\n",
       " '\"Renda (R$)\"',\n",
       " '\"Público \"']"
      ]
     },
     "execution_count": 2,
     "metadata": {},
     "output_type": "execute_result"
    }
   ],
   "source": [
    "csv_file = open('../dataset/FilmesBrasileirosLancados.csv', 'r')\n",
    "csv_reader = csv.reader(csv_file, delimiter=';')\n",
    "next(csv_reader) # skip header"
   ]
  },
  {
   "cell_type": "markdown",
   "metadata": {},
   "source": [
    "## Filtrando campos necessários"
   ]
  },
  {
   "cell_type": "code",
   "execution_count": 3,
   "metadata": {},
   "outputs": [],
   "source": [
    "data = []\n",
    "for row in csv_reader:\n",
    "    if row[0] != '':\n",
    "        if row[11] != '\"ND\"' and row[12] != '\"ND\"': # Removing movies that don't have all information\n",
    "            movie = {\"Diretor\": row[3].replace('\"', ''),\"Genero\": row[4].replace('\"', ''),\"Distribuidora\": row[9].replace('\"', ''),\"Renda\": row[11].replace('\"', '').replace(',', '.'),\"Publico\": row[12].replace('\"', '')}\n",
    "            data.append(movie)"
   ]
  },
  {
   "cell_type": "code",
   "execution_count": 4,
   "metadata": {
    "scrolled": true
   },
   "outputs": [
    {
     "name": "stdout",
     "output_type": "stream",
     "text": [
      "1532\n"
     ]
    }
   ],
   "source": [
    "print(len(data))"
   ]
  },
  {
   "cell_type": "markdown",
   "metadata": {},
   "source": [
    "## Criando ranges para público"
   ]
  },
  {
   "cell_type": "code",
   "execution_count": 5,
   "metadata": {},
   "outputs": [],
   "source": [
    "somelist=[]\n",
    "for r in data:\n",
    "    somelist.append(int(r['Publico']))"
   ]
  },
  {
   "cell_type": "code",
   "execution_count": 6,
   "metadata": {},
   "outputs": [
    {
     "name": "stdout",
     "output_type": "stream",
     "text": [
      "MAX: 11305479\n",
      "MIN 7\n"
     ]
    }
   ],
   "source": [
    "print('MAX:',max(somelist))\n",
    "print('MIN',min(somelist))"
   ]
  },
  {
   "cell_type": "code",
   "execution_count": 7,
   "metadata": {},
   "outputs": [
    {
     "name": "stdout",
     "output_type": "stream",
     "text": [
      "MEDIAN 6776.5\n",
      "MHIGH 6784\n",
      "MLOW 6769\n"
     ]
    }
   ],
   "source": [
    "print('MEDIAN',statistics.median(somelist))\n",
    "print('MHIGH',statistics.median_high(somelist))\n",
    "print('MLOW',statistics.median_low(somelist))"
   ]
  },
  {
   "cell_type": "code",
   "execution_count": 8,
   "metadata": {},
   "outputs": [
    {
     "name": "stdout",
     "output_type": "stream",
     "text": [
      "MEAN 201382.9144908616\n",
      "PERCENTILE [  887.   3462.4 13730.6 93890.6]\n"
     ]
    }
   ],
   "source": [
    "print('MEAN',statistics.mean(somelist))\n",
    "print('PERCENTILE',percentile(somelist, [20, 40, 60, 80]))\n"
   ]
  },
  {
   "cell_type": "code",
   "execution_count": 9,
   "metadata": {},
   "outputs": [],
   "source": [
    "def define_public(pub):\n",
    "    if int(pub) < 815:\n",
    "        return 'E'\n",
    "    elif int(pub) < 3204:\n",
    "        return 'D'\n",
    "    elif int(pub) < 13149:\n",
    "        return 'C'\n",
    "    elif int(pub) < 91092:\n",
    "        return 'B'\n",
    "    else:\n",
    "        return 'A'"
   ]
  },
  {
   "cell_type": "code",
   "execution_count": 10,
   "metadata": {},
   "outputs": [],
   "source": [
    "for r in data:\n",
    "    r['Publico'] = define_public(int(r['Publico']))"
   ]
  },
  {
   "cell_type": "markdown",
   "metadata": {},
   "source": [
    "## Criando ranges para público"
   ]
  },
  {
   "cell_type": "code",
   "execution_count": 11,
   "metadata": {},
   "outputs": [],
   "source": [
    "somelist=[]\n",
    "for r in data:\n",
    "    somelist.append(float(r['Renda']))"
   ]
  },
  {
   "cell_type": "code",
   "execution_count": 12,
   "metadata": {},
   "outputs": [
    {
     "name": "stdout",
     "output_type": "stream",
     "text": [
      "MAX: 124681177.82\n",
      "MIN 30.0\n"
     ]
    }
   ],
   "source": [
    "print('MAX:',max(somelist))\n",
    "print('MIN',min(somelist))"
   ]
  },
  {
   "cell_type": "code",
   "execution_count": 13,
   "metadata": {},
   "outputs": [
    {
     "name": "stdout",
     "output_type": "stream",
     "text": [
      "MEDIAN 54066.735\n",
      "MHIGH 54173.47\n",
      "MLOW 53960.0\n"
     ]
    }
   ],
   "source": [
    "print('MEDIAN',statistics.median(somelist))\n",
    "print('MHIGH',statistics.median_high(somelist))\n",
    "print('MLOW',statistics.median_low(somelist))"
   ]
  },
  {
   "cell_type": "code",
   "execution_count": 14,
   "metadata": {
    "scrolled": false
   },
   "outputs": [
    {
     "name": "stdout",
     "output_type": "stream",
     "text": [
      "MEAN 1824633.9161879895\n",
      "PERCENTILE [  7706.96   30227.496 117016.172 797518.4  ]\n"
     ]
    }
   ],
   "source": [
    "print('MEAN',statistics.mean(somelist))\n",
    "print('PERCENTILE',percentile(somelist, [20, 40, 60, 80]))\n"
   ]
  },
  {
   "cell_type": "code",
   "execution_count": 15,
   "metadata": {},
   "outputs": [],
   "source": [
    "def define_income(inc):\n",
    "    if float(inc) < 6615.804:\n",
    "        return 'E'\n",
    "    elif float(inc) < 27901.082:\n",
    "        return 'D'\n",
    "    elif float(inc) < 107241.18:\n",
    "        return 'C'\n",
    "    elif float(inc) < 773488.738:\n",
    "        return 'B'\n",
    "    else:\n",
    "        return 'A'"
   ]
  },
  {
   "cell_type": "code",
   "execution_count": 16,
   "metadata": {},
   "outputs": [],
   "source": [
    "for r in data:\n",
    "    r['Renda'] = define_income(float(r['Renda']))"
   ]
  },
  {
   "cell_type": "markdown",
   "metadata": {},
   "source": [
    "## Filtro por Diretores Expressivos"
   ]
  },
  {
   "cell_type": "code",
   "execution_count": 17,
   "metadata": {},
   "outputs": [],
   "source": [
    "allDirctr = []\n",
    "for r in data:\n",
    "    allDirctr.append(r['Diretor'])"
   ]
  },
  {
   "cell_type": "code",
   "execution_count": 18,
   "metadata": {},
   "outputs": [],
   "source": [
    "director_lst = []\n",
    "director_name = []\n",
    "for r in data:\n",
    "    if r['Diretor'] not in director_name and allDirctr.count(r['Diretor']) > 4:\n",
    "        director_name.append(r['Diretor'])\n",
    "        director_lst.append(r['Diretor'])"
   ]
  },
  {
   "cell_type": "code",
   "execution_count": 19,
   "metadata": {},
   "outputs": [
    {
     "data": {
      "text/plain": [
       "45"
      ]
     },
     "execution_count": 19,
     "metadata": {},
     "output_type": "execute_result"
    }
   ],
   "source": [
    "len(director_lst)"
   ]
  },
  {
   "cell_type": "code",
   "execution_count": 20,
   "metadata": {},
   "outputs": [],
   "source": [
    "for r in data:\n",
    "    if r['Diretor'] not in director_lst:\n",
    "        r['Diretor'] = 'Outros'"
   ]
  },
  {
   "cell_type": "markdown",
   "metadata": {},
   "source": [
    "## Agrupamento para as Distribuidoras"
   ]
  },
  {
   "cell_type": "code",
   "execution_count": 21,
   "metadata": {},
   "outputs": [
    {
     "data": {
      "text/plain": [
       "['\"Ano de exibição\"',\n",
       " '\"Distribuidora\"',\n",
       " '\"Número de Registro Ancine\"',\n",
       " '\"Origem da empresa distribuidora\"',\n",
       " '\"Público\"',\n",
       " '\"Público Filmes Brasileiros\"',\n",
       " '\"Renda (R$)\"',\n",
       " '\"Renda Filmes Brasileiros (R$)\"',\n",
       " '\"Títulos Exibidos\"',\n",
       " '\"Títulos Brasileiros  Exibidos\"',\n",
       " '\"Títulos Lançados\"',\n",
       " '\"Títulos Brasileiros Lançados\"']"
      ]
     },
     "execution_count": 21,
     "metadata": {},
     "output_type": "execute_result"
    }
   ],
   "source": [
    "csv_file2 = open('../dataset/DistribuidorasFilmesBrasil.csv', 'r')\n",
    "csv_reader2 = csv.reader(csv_file2, delimiter=';')\n",
    "next(csv_reader2) # skip header"
   ]
  },
  {
   "cell_type": "code",
   "execution_count": 22,
   "metadata": {},
   "outputs": [],
   "source": [
    "data2 = []\n",
    "for row in csv_reader2:\n",
    "    movie = {\"Distribuidora\": row[1].replace('\"', ''),\"Renda\": float(row[6].replace('\"', '').replace(',', '.')),\"Lancamentos\": int(row[8].replace('\"', ''))}\n",
    "    data2.append(movie)"
   ]
  },
  {
   "cell_type": "code",
   "execution_count": 23,
   "metadata": {},
   "outputs": [],
   "source": [
    "distribuidora_lst = []\n",
    "distribuidora_name = []\n",
    "for r in data2:\n",
    "    if r['Distribuidora'] not in distribuidora_name:\n",
    "        distribuidora_name.append(r['Distribuidora'])\n",
    "        distribuidora_lst.append(r)\n",
    "    else:\n",
    "        distribuidora_lst[distribuidora_name.index(r['Distribuidora'])]['Renda'] += r['Renda']\n",
    "        distribuidora_lst[distribuidora_name.index(r['Distribuidora'])]['Lancamentos'] += r['Lancamentos']"
   ]
  },
  {
   "cell_type": "code",
   "execution_count": 24,
   "metadata": {},
   "outputs": [],
   "source": [
    "onlyRenda=[]\n",
    "for r in data2:\n",
    "    onlyRenda.append(float(r['Renda']))"
   ]
  },
  {
   "cell_type": "code",
   "execution_count": 25,
   "metadata": {},
   "outputs": [
    {
     "name": "stdout",
     "output_type": "stream",
     "text": [
      "PERCENTILE [   3947.368   31683.74   204621.278 3927832.124]\n"
     ]
    }
   ],
   "source": [
    "print('PERCENTILE',percentile(onlyRenda, [20, 40, 60, 80]))"
   ]
  },
  {
   "cell_type": "code",
   "execution_count": 26,
   "metadata": {},
   "outputs": [],
   "source": [
    "onlyLancamentos=[]\n",
    "for r in data2:\n",
    "    onlyLancamentos.append(float(r['Lancamentos']))"
   ]
  },
  {
   "cell_type": "code",
   "execution_count": 27,
   "metadata": {},
   "outputs": [
    {
     "name": "stdout",
     "output_type": "stream",
     "text": [
      "PERCENTILE [ 1.  2.  4. 16.]\n"
     ]
    }
   ],
   "source": [
    "print('PERCENTILE',percentile(onlyLancamentos, [20, 40, 60, 80]))"
   ]
  },
  {
   "cell_type": "code",
   "execution_count": 28,
   "metadata": {},
   "outputs": [],
   "source": [
    "def define_distribu(r,l):\n",
    "    txt = ''\n",
    "    if r < 3947.368:\n",
    "        txt = 'E'\n",
    "    elif r < 31683.74:\n",
    "        txt = 'D'\n",
    "    elif r < 204621.278:\n",
    "        txt = 'C'\n",
    "    elif r < 3927832.124:\n",
    "        txt = 'B'\n",
    "    else:\n",
    "        txt = 'A'\n",
    "    if l < 1:\n",
    "        txt += 'E'\n",
    "    elif l < 2:\n",
    "        txt += 'D'\n",
    "    elif l < 4:\n",
    "        txt += 'C'\n",
    "    elif l < 16:\n",
    "        txt += 'B'\n",
    "    else:\n",
    "        txt += 'A'\n",
    "    return txt"
   ]
  },
  {
   "cell_type": "code",
   "execution_count": 29,
   "metadata": {},
   "outputs": [],
   "source": [
    "for r in data:\n",
    "    if r['Distribuidora'] in distribuidora_name:\n",
    "        r['Distribuidora'] = define_distribu(distribuidora_lst[distribuidora_name.index(r['Distribuidora'])]['Renda'],distribuidora_lst[distribuidora_name.index(r['Distribuidora'])]['Lancamentos'])\n",
    "    else:\n",
    "        r['Distribuidora'] = 'Outros'"
   ]
  },
  {
   "cell_type": "markdown",
   "metadata": {},
   "source": [
    "## Exportando resultados"
   ]
  },
  {
   "cell_type": "code",
   "execution_count": 30,
   "metadata": {},
   "outputs": [],
   "source": [
    "csv_out = []\n",
    "for r in data:\n",
    "    row = []\n",
    "    row.append(r['Diretor'])\n",
    "    row.append(r['Genero'])\n",
    "    row.append(r['Distribuidora'])\n",
    "    row.append(r['Renda']+r['Publico'])\n",
    "    csv_out.append(row)"
   ]
  },
  {
   "cell_type": "code",
   "execution_count": 31,
   "metadata": {},
   "outputs": [],
   "source": [
    "with open('../dataset/machineLearningPreProcessing.csv', 'w') as writeFile:\n",
    "    writer = csv.writer(writeFile)\n",
    "    writer.writerows(csv_out)"
   ]
  },
  {
   "cell_type": "code",
   "execution_count": null,
   "metadata": {},
   "outputs": [],
   "source": []
  }
 ],
 "metadata": {
  "kernelspec": {
   "display_name": "Python 3",
   "language": "python",
   "name": "python3"
  },
  "language_info": {
   "codemirror_mode": {
    "name": "ipython",
    "version": 3
   },
   "file_extension": ".py",
   "mimetype": "text/x-python",
   "name": "python",
   "nbconvert_exporter": "python",
   "pygments_lexer": "ipython3",
   "version": "3.7.2"
  }
 },
 "nbformat": 4,
 "nbformat_minor": 2
}
